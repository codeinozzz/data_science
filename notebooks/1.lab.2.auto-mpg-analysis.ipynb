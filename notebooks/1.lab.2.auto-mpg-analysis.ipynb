{
 "cells": [
  {
   "cell_type": "markdown",
   "metadata": {},
   "source": [
    "<div\n",
    "  style=\"\n",
    "    background-color: #f0f0f0;\n",
    "    color:rgb(56, 56, 56);\n",
    "    padding: 8px;\n",
    "    display: flex;\n",
    "    align-items: center;\n",
    "    gap: 100px;\n",
    "  \"\n",
    ">\n",
    "  <img src=\"./images/brand.svg\" style=\"max-height: 80px;\">\n",
    "  <strong>\n",
    "    AI Saga: Data Science and Machine Learning</br>\n",
    "    1.lab.2. Auto MPG Analysis\n",
    "  </strong>\n",
    "</div>"
   ]
  },
  {
   "cell_type": "markdown",
   "metadata": {},
   "source": [
    "### Background\n",
    "\n",
    "You will be working with the Auto MPG dataset containing fuel consumption information in miles per gallon (MPG) and other attributes for various car models.\n",
    "The dataset includes:\n",
    "- 398 instances\n",
    "- 8 attributes including MPG, cylinders, displacement, horsepower, weight, acceleration, model year and origin\n",
    "\n",
    "### Description\n",
    "Your task is to perform an exploratory data analysis using Python. You should use libraries such as `pandas`, `numpy`, and `matplotlib` to:\n",
    "- Analyze the distribution of features\n",
    "- Identify correlations between variables\n",
    "- Explore relationships between features and MPG\n",
    "- Create meaningful visualizations to support your findings\n",
    "\n",
    "### Deliverables\n",
    "- A **ipynb** (Jupyter Notebook) file called **auto-mpg-analysis.ipynb** that contains your code and analysis.\n",
    "- The **notebook** should be self-contained and include one paragraph summarizing the main findings of your analysis.\n",
    "- Use the provided **auto-mpg-analysis.ipynb** template as a starting point."
   ]
  },
  {
   "cell_type": "code",
   "execution_count": null,
   "metadata": {},
   "outputs": [],
   "source": [
    "import numpy as np\n",
    "import matplotlib.pyplot as plt\n",
    "import seaborn as sns"
   ]
  },
  {
   "cell_type": "code",
   "execution_count": null,
   "metadata": {},
   "outputs": [],
   "source": [
    "df = sns.load_dataset(\"mpg\")\n",
    "\n",
    "df = df.dropna()\n",
    "\n",
    "\n",
    "df.head()"
   ]
  },
  {
   "cell_type": "markdown",
   "metadata": {},
   "source": [
    "## Matriz de coorrelacioon \n",
    "\n",
    "\n",
    "Para saber qué variable predice mejor el MPG, calculamos correlaciones entre todas las variables numéricas. Esto pues  nos ayuda a encontrar automáticamente la característica qu es mas importante.\n",
    "\n",
    "\n",
    "\n",
    "- elect_dtypes(include=[np.number]) filtra automáticamente solo las columnas numéricas\n",
    "- corr() calcula la matriz de correlación de Pearson entre todas las variables\n",
    "- sns.heatmap() visualiza la matriz con colores para identificar correlaciones fuertes\n",
    "- abs().sort_values() ordena las correlaciones por valor absoluto para encontrar la más fuerte"
   ]
  },
  {
   "cell_type": "code",
   "execution_count": null,
   "metadata": {},
   "outputs": [],
   "source": [
    "numeric_cols = df.select_dtypes(include=[np.number]).columns\n",
    "correlation_matrix = df[numeric_cols].corr()\n",
    "\n",
    "plt.figure(figsize=(8, 6))\n",
    "sns.heatmap(correlation_matrix, annot=True, cmap=\"RdBu_r\", center=0)\n",
    "plt.title(\"Matriz de Correlación\")\n",
    "plt.show()"
   ]
  },
  {
   "cell_type": "markdown",
   "metadata": {},
   "source": [
    " esta  Identifica automáticamente la variable más correlacionada\n",
    "\n",
    " La matriz nos revela que weight tiene la correlación más fuerte con MPG (-0.83), seguido por displacement (-0.81) y cylinders (-0.78). Esta correlación es negativa pero como se toma encunta el valor absoluto de puede indicar que los vehículos más pesados consumen más combustible, lo cual es lógico a mi parecer."
   ]
  },
  {
   "cell_type": "code",
   "execution_count": null,
   "metadata": {},
   "outputs": [],
   "source": [
    "mpg_correlations = correlation_matrix[\"mpg\"].abs().sort_values(ascending=False)\n",
    "most_relevant_feature = mpg_correlations.index[1]  # Excluir MPG mismo\n",
    "print(\n",
    "    f\"Variable más correlacionada: {most_relevant_feature} ({mpg_correlations.iloc[1]:.3f})\"\n",
    ")"
   ]
  },
  {
   "cell_type": "markdown",
   "metadata": {},
   "source": [
    "\n",
    "## Visualización de la relación principal\n",
    "\n",
    "-  plt.scatter() crea un gráfico de dispersión para visualizar la relación entre dos variables\n",
    "-  plt.hist() genera histogramas para ver la distribución de una variable individual\n",
    "-  plt.subplot()  permite crear múltiples gráficos en una sola figura\n",
    "\n",
    "Graficamos la relación entre weight y MPG para entender  mejor y visualmente\n",
    "\n",
    "Se observa una clara relación que  no  es lineal entre weight y MPG, Los vehículos ligeros de menos de 2500 lb  muestran gran variabilidad en lo qeu respecta eficiencia 15-45 MPG segun la grafica  mientras que vehículos pesados sde mas de 4000 lbs están concentrados en bajos valores de MPG eentre 10 y 20 en base a eso se define que Existe un punto de inflexión que estaa redondeando on mejor dicho alrededor  de 3000 lbs donde la eficiencia empieza a caer.\n"
   ]
  },
  {
   "cell_type": "code",
   "execution_count": null,
   "metadata": {},
   "outputs": [],
   "source": [
    "plt.figure(figsize=(10, 6))\n",
    "plt.scatter(df[most_relevant_feature], df[\"mpg\"], alpha=0.6)\n",
    "plt.xlabel(most_relevant_feature.capitalize())\n",
    "plt.ylabel(\"MPG\")\n",
    "plt.title(f\"Relación entre {most_relevant_feature.capitalize()} y MPG\")\n",
    "plt.grid(True, alpha=0.3)\n",
    "plt.show()"
   ]
  }
 ],
 "metadata": {
  "kernelspec": {
   "display_name": "venv",
   "language": "python",
   "name": "python3"
  },
  "language_info": {
   "codemirror_mode": {
    "name": "ipython",
    "version": 3
   },
   "file_extension": ".py",
   "mimetype": "text/x-python",
   "name": "python",
   "nbconvert_exporter": "python",
   "pygments_lexer": "ipython3",
   "version": "3.12.3"
  }
 },
 "nbformat": 4,
 "nbformat_minor": 2
}
