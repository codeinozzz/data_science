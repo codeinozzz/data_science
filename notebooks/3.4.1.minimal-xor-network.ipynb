{
 "cells": [
  {
   "cell_type": "markdown",
   "metadata": {},
   "source": [
    "<div\n",
    "  style=\"\n",
    "    background-color: #f0f0f0;\n",
    "    color:rgb(56, 56, 56);\n",
    "    padding: 8px;\n",
    "    display: flex;\n",
    "    align-items: center;\n",
    "    gap: 100px;\n",
    "  \"\n",
    ">\n",
    "  <img src=\"./images/brand.svg\" style=\"max-height: 80px;\">\n",
    "  <strong>\n",
    "    AI Saga: Data Science and Machine Learning</br>\n",
    "    3.4.1. Finding the Minimal Neural Network for XOR\n",
    "  </strong>\n",
    "</div>"
   ]
  },
  {
   "cell_type": "code",
   "execution_count": 1,
   "metadata": {},
   "outputs": [],
   "source": [
    "# ⚠️ IMPORTANT NOTICE FOR STUDENTS ⚠️\n",
    "#\n",
    "# Please make sure to check the official instructions for this assignment in Canvas LMS\n",
    "# as they may have been updated or changed. The instructions above are provided for\n",
    "# reference only and may not reflect the most current requirements.\n",
    "#\n",
    "# Always refer to Canvas LMS for:\n",
    "# - Latest assignment requirements\n",
    "# - Due dates\n",
    "# - Grading criteria\n",
    "# - Any special instructions\n",
    "#\n",
    "# When in doubt, ask your instructor for clarification.\n",
    "import torch\n",
    "import torch.nn as nn\n",
    "from rich.console import Console\n",
    "from rich.table import Table\n",
    "\n",
    "console = Console()"
   ]
  },
  {
   "cell_type": "code",
   "execution_count": null,
   "metadata": {},
   "outputs": [],
   "source": [
    "inputs = torch.tensor(\n",
    "    [[0.0, 0.0], [0.0, 1.0], [1.0, 0.0], [1.0, 1.0]], dtype=torch.float32\n",
    ")\n",
    "labels = torch.tensor([[0.0], [1.0], [1.0], [0.0]], dtype=torch.float32)\n",
    "\n",
    "table = Table(title=\"XOR Truth Table\")\n",
    "table.add_column(\"Input 1\", justify=\"center\")\n",
    "table.add_column(\"Input 2\", justify=\"center\")\n",
    "table.add_column(\"Output\", justify=\"center\")\n",
    "\n",
    "for input_row, label_row in zip(inputs, labels):\n",
    "    table.add_row(\n",
    "        str(int(input_row[0].item())),\n",
    "        str(int(input_row[1].item())),\n",
    "        str(int(label_row[0].item())),\n",
    "    )\n",
    "\n",
    "console.print(table)"
   ]
  }
 ],
 "metadata": {
  "kernelspec": {
   "display_name": "venv",
   "language": "python",
   "name": "python3"
  },
  "language_info": {
   "codemirror_mode": {
    "name": "ipython",
    "version": 3
   },
   "file_extension": ".py",
   "mimetype": "text/x-python",
   "name": "python",
   "nbconvert_exporter": "python",
   "pygments_lexer": "ipython3",
   "version": "3.12.8"
  }
 },
 "nbformat": 4,
 "nbformat_minor": 2
}
