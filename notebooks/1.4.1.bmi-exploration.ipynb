{
 "cells": [
  {
   "cell_type": "markdown",
   "metadata": {},
   "source": [
    "<div\n",
    "  style=\"\n",
    "    background-color: #f0f0f0;\n",
    "    color:rgb(56, 56, 56);\n",
    "    padding: 8px;\n",
    "    display: flex;\n",
    "    align-items: center;\n",
    "    gap: 100px;\n",
    "  \"\n",
    ">\n",
    "  <img src=\"./images/brand.svg\" style=\"max-height: 80px;\">\n",
    "  <strong>\n",
    "    AI Saga: Data Science and Machine Learning</br>\n",
    "    1.4.1. BMI Exploration\n",
    "  </strong>\n",
    "</div>"
   ]
  },
  {
   "cell_type": "markdown",
   "metadata": {},
   "source": [
    "### Background\n",
    "\n",
    "You will be working with two datasets (**group-a.txt** and **group-b.txt**) containing health-related measurements from two different groups:\n",
    "- Group A: 865 participants\n",
    "- Group B: 921 participants\n",
    "\n",
    "Each dataset contains three columns:\n",
    "- **ID**: Unique identifier for each participant\n",
    "- **Steps**: Average number of steps walked per week\n",
    "- **BMI**: Body Mass Index measurement\n",
    "\n",
    "### Description\n",
    "\n",
    "Your task is to openly explore the data using your Python environment. You can use libraries such as pandas, numpy and matplotlib (for visualizations). Your goal is to understand the data and to identify patterns or differences between the two groups.\n",
    "\n",
    "### Deliverables\n",
    "\n",
    "- A *ipynb* (Jupyter Notebook) file called *bmi-exploration.ipynb* that contains your code and analysis.\n",
    "- The *notebook* should be self-contained and include one paragraph summarizing the main findings of your analysis.\n",
    "- Use the provided *bmi-exploration.ipynb* template as a starting point."
   ]
  },
  {
   "cell_type": "code",
   "execution_count": 1,
   "metadata": {},
   "outputs": [],
   "source": [
    "# ⚠️ IMPORTANT NOTICE FOR STUDENTS ⚠️\n",
    "#\n",
    "# Please make sure to check the official instructions for this assignment in Canvas LMS\n",
    "# as they may have been updated or changed. The instructions above are provided for\n",
    "# reference only and may not reflect the most current requirements.\n",
    "#\n",
    "# Always refer to Canvas LMS for:\n",
    "# - Latest assignment requirements\n",
    "# - Due dates\n",
    "# - Grading criteria\n",
    "# - Any special instructions\n",
    "#\n",
    "# When in doubt, ask your instructor for clarification.\n",
    "\n",
    "import pandas as pd"
   ]
  },
  {
   "cell_type": "code",
   "execution_count": null,
   "metadata": {},
   "outputs": [],
   "source": [
    "group_a = pd.read_csv(\"./data/group-a.txt\", sep=\"\\t\")\n",
    "group_b = pd.read_csv(\"./data/group-b.txt\", sep=\"\\t\")\n",
    "group_a.head()"
   ]
  }
 ],
 "metadata": {
  "kernelspec": {
   "display_name": "venv",
   "language": "python",
   "name": "python3"
  },
  "language_info": {
   "codemirror_mode": {
    "name": "ipython",
    "version": 3
   },
   "file_extension": ".py",
   "mimetype": "text/x-python",
   "name": "python",
   "nbconvert_exporter": "python",
   "pygments_lexer": "ipython3",
   "version": "3.12.8"
  }
 },
 "nbformat": 4,
 "nbformat_minor": 2
}
