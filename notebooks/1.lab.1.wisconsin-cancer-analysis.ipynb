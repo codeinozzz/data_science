{
 "cells": [
  {
   "cell_type": "markdown",
   "metadata": {},
   "source": [
    "<div\n",
    "  style=\"\n",
    "    background-color: #f0f0f0;\n",
    "    color:rgb(56, 56, 56);\n",
    "    padding: 8px;\n",
    "    display: flex;\n",
    "    align-items: center;\n",
    "    gap: 100px;\n",
    "  \"\n",
    ">\n",
    "  <img src=\"./images/brand.svg\" style=\"max-height: 80px;\">\n",
    "  <strong>\n",
    "    AI Saga: Data Science and Machine Learning</br>\n",
    "    1.lab.1. Wisconsin Cancer Analysis\n",
    "  </strong>\n",
    "</div>"
   ]
  },
  {
   "cell_type": "markdown",
   "metadata": {},
   "source": [
    "### Background\n",
    "\n",
    "You will be working with the Wisconsin Diagnostic Cancer Dataset, which contains features computed from digitized images of fine needle aspirates (FNA) of tissue samples.\n",
    "\n",
    "The dataset includes:\n",
    "- 569 instances\n",
    "- 30 numeric features computed from the cell nuclei present in the image\n",
    "- Binary classification: **Malignant** or **Benign** diagnosis\n",
    "\n",
    "### Description\n",
    "\n",
    "Your task is to perform an exploratory data analysis using Python. You should use libraries such as `pandas`, `numpy`, and `matplotlib` to:\n",
    "\n",
    "- Analyze the distribution of features\n",
    "- Identify correlations between variables\n",
    "- Explore relationships between features and diagnosis\n",
    "- Create meaningful visualizations to support your findings\n",
    "\n",
    "### Deliverables\n",
    "\n",
    "- A **ipynb** (Jupyter Notebook) file called **wisconsin-cancer-analysis.ipynb** that contains your code and analysis.\n",
    "- The **notebook** should be self-contained and include one paragraph summarizing the main findings of your analysis.\n",
    "- Use the provided **wisconsin-cancer-analysis.ipynb** template as a starting point."
   ]
  },
  {
   "cell_type": "code",
   "execution_count": null,
   "metadata": {},
   "outputs": [],
   "source": [
    "import pandas as pd\n",
    "import matplotlib.pyplot as plt\n",
    "import seaborn as sns\n",
    "\n",
    "from sklearn.datasets import load_breast_cancer"
   ]
  },
  {
   "cell_type": "markdown",
   "metadata": {},
   "source": [
    "# Visual configuration"
   ]
  },
  {
   "cell_type": "code",
   "execution_count": null,
   "metadata": {},
   "outputs": [],
   "source": [
    "sns.set(style=\"whitegrid\", palette=\"muted\", font_scale=1.1)\n",
    "plt.rcParams[\"figure.figsize\"] = (10, 6)"
   ]
  },
  {
   "cell_type": "markdown",
   "metadata": {},
   "source": [
    "# 1. carga y exploracion del dataset\n",
    "\n",
    "El dataset está bien estructurado, sin valores faltantes"
   ]
  },
  {
   "cell_type": "code",
   "execution_count": null,
   "metadata": {},
   "outputs": [],
   "source": [
    "cancer = load_breast_cancer()\n",
    "df = pd.DataFrame(cancer.data, columns=cancer.feature_names)\n",
    "df[\"diagnosis\"] = cancer.target\n",
    "df.head()"
   ]
  },
  {
   "cell_type": "markdown",
   "metadata": {},
   "source": [
    "# 2. DISTRIBUCIÓN DE DIAGNÓSTICOS\n",
    "# Título: Distribución de Casos Malignos vs Benignos\n",
    "# Descripción:  \n",
    "Grafico circular diseñado para evidenciar von ls info del dataset que tumero en proporcion son benignos y cules son maligno\n",
    "# Análisis: \n",
    "es muy evidente en base ala grafico detallar  que en su mayoria los tumores son malignos siendo estos un (63%)  y el restante benignos (37%), que para el grafico de ditribucion muestra  correctamente la distribucion de la varibles objetivo que es benigno maligno, usando la columna de diagnosisi que es 0 como se representa para maligo y 1 para benigno"
   ]
  },
  {
   "cell_type": "code",
   "execution_count": null,
   "metadata": {},
   "outputs": [],
   "source": [
    "plt.figure(figsize=(8, 6))\n",
    "diagnosis_counts = df[\"diagnosis\"].value_counts()\n",
    "labels = [\"Maligno (0)\", \"Benigno (1)\"]\n",
    "colors = [\"#ff6b6b\", \"#51cf66\"]\n",
    "\n",
    "plt.pie(\n",
    "    diagnosis_counts.values,\n",
    "    labels=labels,\n",
    "    autopct=\"%1.1f%%\",\n",
    "    colors=colors,\n",
    "    startangle=90,\n",
    ")\n",
    "plt.title(\"Distribución de Diagnósticos - Cáncer de Mama\", fontweight=\"bold\")\n",
    "plt.show()"
   ]
  },
  {
   "cell_type": "markdown",
   "metadata": {},
   "source": [
    "# 3. RELACIÓN ENTRE CARACTERÍSTICAS PRINCIPALES\n",
    "\n",
    "\n",
    "\n",
    "# Relación entre Radio Medio y Textura Media\n",
    "# Descripción: \n",
    "\n",
    "para entender la infoo hay que aclarar que es mean radius y mean texture que es que\n",
    "mean radius: es basicamente que tan grande es unn  nucleo celular\n",
    "\n",
    "mean textureÑ es mla supoerficie que es que tan rrugosa o liza puede ser, \n",
    "\n",
    "en abse a esto pues invvesigando se sabe que\n",
    " - Malignos: grandes Y rugosos\n",
    " - Benignos: pequeños Y lisos\n",
    "\n",
    "\n",
    "por eso para este apartedo se hace un scatter plot que muestra la relación entre el radio medio de los núcleos  celulares y su textura media, coloreando los puntos según el diagnóstico.\n",
    "Permitendo identificar patrones de separación entre casos malignos y benignos.\n",
    "\n",
    "\n",
    "# Análisis: \n",
    "\n",
    "entonces basandono en la preimsa anteriorr confirmamos que los tumeores  malignos tiende a ser de mayor radio medio mientras que los benignos estan en una posicion de radios menores, y aunque halla una superposicionn de ambos pues divizamos una diferencia clara\n"
   ]
  },
  {
   "cell_type": "code",
   "execution_count": null,
   "metadata": {},
   "outputs": [],
   "source": [
    "plt.figure(figsize=(10, 6))\n",
    "scatter = plt.scatter(\n",
    "    df[\"mean radius\"],\n",
    "    df[\"mean texture\"],\n",
    "    c=df[\"diagnosis\"],\n",
    "    cmap=\"RdYlGn\",\n",
    "    alpha=0.7,\n",
    "    s=60,\n",
    ")\n",
    "plt.xlabel(\"Radio Medio de los Núcleos Celulares\")\n",
    "plt.ylabel(\"Textura Media (Desviación Estándar)\")\n",
    "plt.title(\"Relación entre Radio Medio y Textura Media\", fontweight=\"bold\")\n",
    "plt.colorbar(label=\"Diagnóstico (0=Maligno, 1=Benigno)\")\n",
    "plt.grid(True, alpha=0.3)\n",
    "plt.show()"
   ]
  },
  {
   "cell_type": "markdown",
   "metadata": {},
   "source": [
    "# 4. COMPARACIÓN POR DIAGNÓSTICO\n",
    "# Distribución del Radio Medio por Tipo de Diagnóstico\n",
    "# Descripción: \n",
    " aqui hacemos un boxplot usando uno d elso parametros anteriores el radio medioon de los nucleos celulares entre  malignos y benignos , mostrnado la mediana y loos cualtio¿le como tambien los coniocidos valors atipocos para cada grupo \n",
    "\n",
    "# Análisis: \n",
    "los resultados dice que los tumores malignos presentan un radio medio   mayor que los benignos. La mediana de los malignos está cerca de 17.5, mientras que la de los benignos está alrededor de 12.  Hay poca superposición entre los rangos intercuartílicos al igual que el grafico anteriror pero aqui es mas clara la direfencia ."
   ]
  },
  {
   "cell_type": "code",
   "execution_count": null,
   "metadata": {},
   "outputs": [],
   "source": [
    "plt.figure(figsize=(10, 6))\n",
    "sns.boxplot(data=df, x=\"diagnosis\", y=\"mean radius\", palette=[\"#ff6b6b\", \"#51cf66\"])\n",
    "plt.xlabel(\"Diagnóstico (0=Maligno, 1=Benigno)\")\n",
    "plt.ylabel(\"Radio Medio de los Núcleos\")\n",
    "plt.title(\"Distribución del Radio Medio por Tipo de Diagnóstico\", fontweight=\"bold\")\n",
    "plt.xticks([0, 1], [\"Maligno\", \"Benigno\"])\n",
    "plt.show()"
   ]
  },
  {
   "cell_type": "markdown",
   "metadata": {},
   "source": [
    "# 5. MATRIZ DE CORRELACIÓN\n",
    "\n",
    "# Correlación entre Variables Principales\n",
    "# Descripción: \n",
    " aqui pues  es una replica del diagramaa de pearson qeu vimos en clase para estudiar las coorelaciones pero en este caso aplicaod al dataset en este caso uasando  las varibles que pues matematematicamnte ppueden verse mas relacionados en este caso ['mean radius', 'mean texture', 'mean area', 'mean perimeter', 'mean concavity', 'diagnosis'] que son ejemplo area y perimetro son deependientes enbtonces  eso nnos va a motarar con la matriz una relacion concistente \n",
    "\n",
    "# Análisis: \n",
    "\n",
    "Las correlaciones más fuertes son entre radio, área y perímetro (>0.9),lo cual se esperaba poor su relacion matematica para ser epecifico relacion geometrica. El diagnóstico pues tambien  muestra que las correlaciones negativas moderadas con todas las variables (-0.7 a -0.4), indicando que valores mayores se asocian con tumores malignos.\n",
    "\n",
    "\n"
   ]
  },
  {
   "cell_type": "code",
   "execution_count": null,
   "metadata": {},
   "outputs": [],
   "source": [
    "plt.figure(figsize=(10, 8))\n",
    "correlation_features = [\n",
    "    \"mean radius\",\n",
    "    \"mean texture\",\n",
    "    \"mean area\",\n",
    "    \"mean perimeter\",\n",
    "    \"mean concavity\",\n",
    "    \"diagnosis\",\n",
    "]\n",
    "corr_matrix = df[correlation_features].corr()\n",
    "\n",
    "sns.heatmap(\n",
    "    corr_matrix,\n",
    "    annot=True,\n",
    "    cmap=\"coolwarm\",\n",
    "    center=0,\n",
    "    fmt=\".2f\",\n",
    "    square=True,\n",
    "    cbar_kws={\"label\": \"Coeficiente de Correlación\"},\n",
    ")\n",
    "plt.title(\"Matriz de Correlación entre Variables Principales\", fontweight=\"bold\")\n",
    "plt.tight_layout()\n",
    "plt.show()"
   ]
  },
  {
   "cell_type": "markdown",
   "metadata": {},
   "source": [
    "# Conclusion General\n",
    "Basado en las 5 visualizaciones realizadas, el análisis nos muestra los patrones claros de separación entre tumores malignos y benignos. \n",
    "\n",
    "- El dataset está balanceado (63% benignos vs 37% malignos). \n",
    "\n",
    "- El scatter plot muestra separación visible entre clases usando radio y textura. \n",
    "\n",
    "- El boxplot confirma que tumores malignos tienen radio medio significativamente mayor (~17.5) que benignos (~12). \n",
    "\n",
    "- La matriz de correlación revela que radio, área y perímetro están altamente correlacionados (>0.95), mientras que concavidad tiene la correlación más fuerte con diagnóstico (-0.85)\n",
    "\n"
   ]
  }
 ],
 "metadata": {
  "kernelspec": {
   "display_name": "venv",
   "language": "python",
   "name": "python3"
  },
  "language_info": {
   "codemirror_mode": {
    "name": "ipython",
    "version": 3
   },
   "file_extension": ".py",
   "mimetype": "text/x-python",
   "name": "python",
   "nbconvert_exporter": "python",
   "pygments_lexer": "ipython3",
   "version": "3.12.3"
  }
 },
 "nbformat": 4,
 "nbformat_minor": 2
}
